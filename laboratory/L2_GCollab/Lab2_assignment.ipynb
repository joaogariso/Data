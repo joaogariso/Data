{
  "cells": [
    {
      "cell_type": "markdown",
      "metadata": {
        "id": "view-in-github",
        "colab_type": "text"
      },
      "source": [
        "<a href=\"https://colab.research.google.com/github/joaogariso/Data/blob/main/laboratory/L2_GCollab/Lab2_assignment.ipynb\" target=\"_parent\"><img src=\"https://colab.research.google.com/assets/colab-badge.svg\" alt=\"Open In Colab\"/></a>"
      ]
    },
    {
      "cell_type": "markdown",
      "metadata": {
        "id": "JV5YbbVNlCLl"
      },
      "source": [
        "# Laboratory Session 2 -- Assignment\n",
        "\n",
        "To be delivered until 2022-12-16 23:59:59."
      ]
    },
    {
      "cell_type": "markdown",
      "metadata": {
        "id": "A746fsNRldR4"
      },
      "source": [
        "## Section 1 -- Linear Regression\n",
        "\n",
        "**1.** Consider a dataset with 100 observations, containing a single predictor and a quantitative response. Two different models are fitted to the data, a linear regression ($m_1: Y = \\beta_0 + \\beta_1 X + \\epsilon$) and a cubic regression ($m_2: Y = \\beta_0 + \\beta_1 X + \\beta_2 X^2 + \\beta_3 X^3 + \\epsilon$)."
      ]
    },
    {
      "cell_type": "markdown",
      "metadata": {
        "id": "gOuCfx3sm8hZ"
      },
      "source": [
        "**1.a)** Suppose that the actual relation between X and Y is linear. Can the **training** residual sum of squares (RSS) of the linear model be expected to be smaller, larger or equal to the one from the cubic model? Or is there no information to tell? Justify your answer."
      ]
    },
    {
      "cell_type": "markdown",
      "metadata": {
        "id": "JnXgtE2gS_dq"
      },
      "source": [
        "Even if the actual relation between X and Y is linear, it is much more likely that **the cubic model would have a smaller RSS than the linear model**, as it would try to better fit the variability of the training data. It is possible, however unlikely, that the data would have a small enough variability that the linear model would better fit the training data, thus having a smaller RSS.\n"
      ]
    },
    {
      "cell_type": "markdown",
      "metadata": {
        "id": "f-Z6e3nem88s"
      },
      "source": [
        "---\n",
        "**1.b)** Answer question 1.a) considering the test RSS rather than the training RSS."
      ]
    },
    {
      "cell_type": "markdown",
      "metadata": {
        "id": "HHltzl9oTCt9"
      },
      "source": [
        "On the contrary to the previous case, it is much more likely that **the linear model would have a smaller RSS than the cubic model**, as it has a better representation of the linear relation. Although unlikely, it is possible that the test data would have similar enough observations to the training data that the cubic model would have a smaller RSS than the linear model."
      ]
    },
    {
      "cell_type": "markdown",
      "metadata": {
        "id": "gmhX35ckm9St"
      },
      "source": [
        "---\n",
        "**1.c)** Suppose that the actual relationship between X and Y is not linear, but it is not known how far it is from being linear. What is it expected of the the **training** RSS for the linear compared with the cubic models? Or is there not enough information? Justify your answer."
      ]
    },
    {
      "cell_type": "markdown",
      "metadata": {
        "id": "lDKA4OaSXxgs"
      },
      "source": [
        "It is more likely that **the cubic model would be a better fit to the training data**, as it has more flexibility, thus being more adaptable than its linear counterpart to different datasets. As such, the cubic model probably would have a smaller RSS.\n"
      ]
    },
    {
      "cell_type": "markdown",
      "metadata": {
        "id": "68b9Gt-Sm9lp"
      },
      "source": [
        "---\n",
        "**1.d)** Answer question 1.c) considering the test RSS rather than the training RSS."
      ]
    },
    {
      "cell_type": "markdown",
      "metadata": {
        "id": "2JEraciYXyE7"
      },
      "source": [
        "In this case, **it is unclear as to which model would have a smaller RSS**, as it depends on the proximity each has to the real relationship between X and Y. If the real model is close to being a linear one, then the linear model would probably have  a smaller RSS. But if that relationship is not close to linear, then the cubic model, with its greater flexibility, would have a smaller RSS."
      ]
    },
    {
      "cell_type": "markdown",
      "metadata": {
        "id": "JlY6gihzHUm5"
      },
      "source": [
        "---\n",
        "**2.a)** Load the dataset \"wine.csv\". Do not change the dataset file."
      ]
    },
    {
      "cell_type": "code",
      "execution_count": 12,
      "metadata": {
        "colab": {
          "base_uri": "https://localhost:8080/",
          "height": 0
        },
        "id": "UJxs-3Vp9IhJ",
        "outputId": "c5dc9fcb-b85b-403b-fbc4-ffc348bdc0c4"
      },
      "outputs": [
        {
          "output_type": "execute_result",
          "data": {
            "text/plain": [
              "   fixed acidity  volatile acidity  citric acid  residual sugar  chlorides  \\\n",
              "0            7.4              0.70         0.00             1.9      0.076   \n",
              "1            7.8              0.88         0.00             2.6      0.098   \n",
              "2            7.8              0.76         0.04             2.3      0.092   \n",
              "3           11.2              0.28         0.56             1.9      0.075   \n",
              "4            7.4              0.70         0.00             1.9      0.076   \n",
              "\n",
              "   free sulfur dioxide  total sulfur dioxide  density    pH  sulphates  \\\n",
              "0                 11.0                  34.0   0.9978  3.51       0.56   \n",
              "1                 25.0                  67.0   0.9968  3.20       0.68   \n",
              "2                 15.0                  54.0   0.9970  3.26       0.65   \n",
              "3                 17.0                  60.0   0.9980  3.16       0.58   \n",
              "4                 11.0                  34.0   0.9978  3.51       0.56   \n",
              "\n",
              "   alcohol type  quality  \n",
              "0      9.4  red        5  \n",
              "1      9.8  red        5  \n",
              "2      9.8  red        5  \n",
              "3      9.8  red        6  \n",
              "4      9.4  red        5  "
            ],
            "text/html": [
              "\n",
              "  <div id=\"df-b65a72d2-5dea-4131-9e61-b01a1dd28311\">\n",
              "    <div class=\"colab-df-container\">\n",
              "      <div>\n",
              "<style scoped>\n",
              "    .dataframe tbody tr th:only-of-type {\n",
              "        vertical-align: middle;\n",
              "    }\n",
              "\n",
              "    .dataframe tbody tr th {\n",
              "        vertical-align: top;\n",
              "    }\n",
              "\n",
              "    .dataframe thead th {\n",
              "        text-align: right;\n",
              "    }\n",
              "</style>\n",
              "<table border=\"1\" class=\"dataframe\">\n",
              "  <thead>\n",
              "    <tr style=\"text-align: right;\">\n",
              "      <th></th>\n",
              "      <th>fixed acidity</th>\n",
              "      <th>volatile acidity</th>\n",
              "      <th>citric acid</th>\n",
              "      <th>residual sugar</th>\n",
              "      <th>chlorides</th>\n",
              "      <th>free sulfur dioxide</th>\n",
              "      <th>total sulfur dioxide</th>\n",
              "      <th>density</th>\n",
              "      <th>pH</th>\n",
              "      <th>sulphates</th>\n",
              "      <th>alcohol</th>\n",
              "      <th>type</th>\n",
              "      <th>quality</th>\n",
              "    </tr>\n",
              "  </thead>\n",
              "  <tbody>\n",
              "    <tr>\n",
              "      <th>0</th>\n",
              "      <td>7.4</td>\n",
              "      <td>0.70</td>\n",
              "      <td>0.00</td>\n",
              "      <td>1.9</td>\n",
              "      <td>0.076</td>\n",
              "      <td>11.0</td>\n",
              "      <td>34.0</td>\n",
              "      <td>0.9978</td>\n",
              "      <td>3.51</td>\n",
              "      <td>0.56</td>\n",
              "      <td>9.4</td>\n",
              "      <td>red</td>\n",
              "      <td>5</td>\n",
              "    </tr>\n",
              "    <tr>\n",
              "      <th>1</th>\n",
              "      <td>7.8</td>\n",
              "      <td>0.88</td>\n",
              "      <td>0.00</td>\n",
              "      <td>2.6</td>\n",
              "      <td>0.098</td>\n",
              "      <td>25.0</td>\n",
              "      <td>67.0</td>\n",
              "      <td>0.9968</td>\n",
              "      <td>3.20</td>\n",
              "      <td>0.68</td>\n",
              "      <td>9.8</td>\n",
              "      <td>red</td>\n",
              "      <td>5</td>\n",
              "    </tr>\n",
              "    <tr>\n",
              "      <th>2</th>\n",
              "      <td>7.8</td>\n",
              "      <td>0.76</td>\n",
              "      <td>0.04</td>\n",
              "      <td>2.3</td>\n",
              "      <td>0.092</td>\n",
              "      <td>15.0</td>\n",
              "      <td>54.0</td>\n",
              "      <td>0.9970</td>\n",
              "      <td>3.26</td>\n",
              "      <td>0.65</td>\n",
              "      <td>9.8</td>\n",
              "      <td>red</td>\n",
              "      <td>5</td>\n",
              "    </tr>\n",
              "    <tr>\n",
              "      <th>3</th>\n",
              "      <td>11.2</td>\n",
              "      <td>0.28</td>\n",
              "      <td>0.56</td>\n",
              "      <td>1.9</td>\n",
              "      <td>0.075</td>\n",
              "      <td>17.0</td>\n",
              "      <td>60.0</td>\n",
              "      <td>0.9980</td>\n",
              "      <td>3.16</td>\n",
              "      <td>0.58</td>\n",
              "      <td>9.8</td>\n",
              "      <td>red</td>\n",
              "      <td>6</td>\n",
              "    </tr>\n",
              "    <tr>\n",
              "      <th>4</th>\n",
              "      <td>7.4</td>\n",
              "      <td>0.70</td>\n",
              "      <td>0.00</td>\n",
              "      <td>1.9</td>\n",
              "      <td>0.076</td>\n",
              "      <td>11.0</td>\n",
              "      <td>34.0</td>\n",
              "      <td>0.9978</td>\n",
              "      <td>3.51</td>\n",
              "      <td>0.56</td>\n",
              "      <td>9.4</td>\n",
              "      <td>red</td>\n",
              "      <td>5</td>\n",
              "    </tr>\n",
              "  </tbody>\n",
              "</table>\n",
              "</div>\n",
              "      <button class=\"colab-df-convert\" onclick=\"convertToInteractive('df-b65a72d2-5dea-4131-9e61-b01a1dd28311')\"\n",
              "              title=\"Convert this dataframe to an interactive table.\"\n",
              "              style=\"display:none;\">\n",
              "        \n",
              "  <svg xmlns=\"http://www.w3.org/2000/svg\" height=\"24px\"viewBox=\"0 0 24 24\"\n",
              "       width=\"24px\">\n",
              "    <path d=\"M0 0h24v24H0V0z\" fill=\"none\"/>\n",
              "    <path d=\"M18.56 5.44l.94 2.06.94-2.06 2.06-.94-2.06-.94-.94-2.06-.94 2.06-2.06.94zm-11 1L8.5 8.5l.94-2.06 2.06-.94-2.06-.94L8.5 2.5l-.94 2.06-2.06.94zm10 10l.94 2.06.94-2.06 2.06-.94-2.06-.94-.94-2.06-.94 2.06-2.06.94z\"/><path d=\"M17.41 7.96l-1.37-1.37c-.4-.4-.92-.59-1.43-.59-.52 0-1.04.2-1.43.59L10.3 9.45l-7.72 7.72c-.78.78-.78 2.05 0 2.83L4 21.41c.39.39.9.59 1.41.59.51 0 1.02-.2 1.41-.59l7.78-7.78 2.81-2.81c.8-.78.8-2.07 0-2.86zM5.41 20L4 18.59l7.72-7.72 1.47 1.35L5.41 20z\"/>\n",
              "  </svg>\n",
              "      </button>\n",
              "      \n",
              "  <style>\n",
              "    .colab-df-container {\n",
              "      display:flex;\n",
              "      flex-wrap:wrap;\n",
              "      gap: 12px;\n",
              "    }\n",
              "\n",
              "    .colab-df-convert {\n",
              "      background-color: #E8F0FE;\n",
              "      border: none;\n",
              "      border-radius: 50%;\n",
              "      cursor: pointer;\n",
              "      display: none;\n",
              "      fill: #1967D2;\n",
              "      height: 32px;\n",
              "      padding: 0 0 0 0;\n",
              "      width: 32px;\n",
              "    }\n",
              "\n",
              "    .colab-df-convert:hover {\n",
              "      background-color: #E2EBFA;\n",
              "      box-shadow: 0px 1px 2px rgba(60, 64, 67, 0.3), 0px 1px 3px 1px rgba(60, 64, 67, 0.15);\n",
              "      fill: #174EA6;\n",
              "    }\n",
              "\n",
              "    [theme=dark] .colab-df-convert {\n",
              "      background-color: #3B4455;\n",
              "      fill: #D2E3FC;\n",
              "    }\n",
              "\n",
              "    [theme=dark] .colab-df-convert:hover {\n",
              "      background-color: #434B5C;\n",
              "      box-shadow: 0px 1px 3px 1px rgba(0, 0, 0, 0.15);\n",
              "      filter: drop-shadow(0px 1px 2px rgba(0, 0, 0, 0.3));\n",
              "      fill: #FFFFFF;\n",
              "    }\n",
              "  </style>\n",
              "\n",
              "      <script>\n",
              "        const buttonEl =\n",
              "          document.querySelector('#df-b65a72d2-5dea-4131-9e61-b01a1dd28311 button.colab-df-convert');\n",
              "        buttonEl.style.display =\n",
              "          google.colab.kernel.accessAllowed ? 'block' : 'none';\n",
              "\n",
              "        async function convertToInteractive(key) {\n",
              "          const element = document.querySelector('#df-b65a72d2-5dea-4131-9e61-b01a1dd28311');\n",
              "          const dataTable =\n",
              "            await google.colab.kernel.invokeFunction('convertToInteractive',\n",
              "                                                     [key], {});\n",
              "          if (!dataTable) return;\n",
              "\n",
              "          const docLinkHtml = 'Like what you see? Visit the ' +\n",
              "            '<a target=\"_blank\" href=https://colab.research.google.com/notebooks/data_table.ipynb>data table notebook</a>'\n",
              "            + ' to learn more about interactive tables.';\n",
              "          element.innerHTML = '';\n",
              "          dataTable['output_type'] = 'display_data';\n",
              "          await google.colab.output.renderOutput(dataTable, element);\n",
              "          const docLink = document.createElement('div');\n",
              "          docLink.innerHTML = docLinkHtml;\n",
              "          element.appendChild(docLink);\n",
              "        }\n",
              "      </script>\n",
              "    </div>\n",
              "  </div>\n",
              "  "
            ]
          },
          "metadata": {},
          "execution_count": 12
        }
      ],
      "source": [
        "import numpy as np\n",
        "import pandas as pd\n",
        "import sklearn\n",
        "import seaborn as sns\n",
        "import matplotlib.pyplot as plt\n",
        "import scipy\n",
        " \n",
        "url ='https://raw.githubusercontent.com/joaogariso/Data/main/Assignment%201/winequality.csv'\n",
        "winequality_base = pd.read_csv(url)\n",
        "winequality_base.head()\n"
      ]
    },
    {
      "cell_type": "markdown",
      "metadata": {
        "id": "_kZ9jPzDVDzn"
      },
      "source": [
        "---\n",
        "**2.b)** Encode the feature \"type\"."
      ]
    },
    {
      "cell_type": "code",
      "execution_count": 13,
      "metadata": {
        "colab": {
          "base_uri": "https://localhost:8080/",
          "height": 0
        },
        "id": "z6lE0VFUVDzo",
        "outputId": "4f145586-9a38-4860-81a3-9f3afe26e571"
      },
      "outputs": [
        {
          "output_type": "execute_result",
          "data": {
            "text/plain": [
              "   fixed acidity  volatile acidity  citric acid  residual sugar  chlorides  \\\n",
              "0            7.4              0.70         0.00             1.9      0.076   \n",
              "1            7.8              0.88         0.00             2.6      0.098   \n",
              "2            7.8              0.76         0.04             2.3      0.092   \n",
              "3           11.2              0.28         0.56             1.9      0.075   \n",
              "4            7.4              0.70         0.00             1.9      0.076   \n",
              "\n",
              "   free sulfur dioxide  total sulfur dioxide  density    pH  sulphates  \\\n",
              "0                 11.0                  34.0   0.9978  3.51       0.56   \n",
              "1                 25.0                  67.0   0.9968  3.20       0.68   \n",
              "2                 15.0                  54.0   0.9970  3.26       0.65   \n",
              "3                 17.0                  60.0   0.9980  3.16       0.58   \n",
              "4                 11.0                  34.0   0.9978  3.51       0.56   \n",
              "\n",
              "   alcohol  type  quality  \n",
              "0      9.4     1        5  \n",
              "1      9.8     1        5  \n",
              "2      9.8     1        5  \n",
              "3      9.8     1        6  \n",
              "4      9.4     1        5  "
            ],
            "text/html": [
              "\n",
              "  <div id=\"df-e8577475-91f8-4363-9769-72d1e41d0341\">\n",
              "    <div class=\"colab-df-container\">\n",
              "      <div>\n",
              "<style scoped>\n",
              "    .dataframe tbody tr th:only-of-type {\n",
              "        vertical-align: middle;\n",
              "    }\n",
              "\n",
              "    .dataframe tbody tr th {\n",
              "        vertical-align: top;\n",
              "    }\n",
              "\n",
              "    .dataframe thead th {\n",
              "        text-align: right;\n",
              "    }\n",
              "</style>\n",
              "<table border=\"1\" class=\"dataframe\">\n",
              "  <thead>\n",
              "    <tr style=\"text-align: right;\">\n",
              "      <th></th>\n",
              "      <th>fixed acidity</th>\n",
              "      <th>volatile acidity</th>\n",
              "      <th>citric acid</th>\n",
              "      <th>residual sugar</th>\n",
              "      <th>chlorides</th>\n",
              "      <th>free sulfur dioxide</th>\n",
              "      <th>total sulfur dioxide</th>\n",
              "      <th>density</th>\n",
              "      <th>pH</th>\n",
              "      <th>sulphates</th>\n",
              "      <th>alcohol</th>\n",
              "      <th>type</th>\n",
              "      <th>quality</th>\n",
              "    </tr>\n",
              "  </thead>\n",
              "  <tbody>\n",
              "    <tr>\n",
              "      <th>0</th>\n",
              "      <td>7.4</td>\n",
              "      <td>0.70</td>\n",
              "      <td>0.00</td>\n",
              "      <td>1.9</td>\n",
              "      <td>0.076</td>\n",
              "      <td>11.0</td>\n",
              "      <td>34.0</td>\n",
              "      <td>0.9978</td>\n",
              "      <td>3.51</td>\n",
              "      <td>0.56</td>\n",
              "      <td>9.4</td>\n",
              "      <td>1</td>\n",
              "      <td>5</td>\n",
              "    </tr>\n",
              "    <tr>\n",
              "      <th>1</th>\n",
              "      <td>7.8</td>\n",
              "      <td>0.88</td>\n",
              "      <td>0.00</td>\n",
              "      <td>2.6</td>\n",
              "      <td>0.098</td>\n",
              "      <td>25.0</td>\n",
              "      <td>67.0</td>\n",
              "      <td>0.9968</td>\n",
              "      <td>3.20</td>\n",
              "      <td>0.68</td>\n",
              "      <td>9.8</td>\n",
              "      <td>1</td>\n",
              "      <td>5</td>\n",
              "    </tr>\n",
              "    <tr>\n",
              "      <th>2</th>\n",
              "      <td>7.8</td>\n",
              "      <td>0.76</td>\n",
              "      <td>0.04</td>\n",
              "      <td>2.3</td>\n",
              "      <td>0.092</td>\n",
              "      <td>15.0</td>\n",
              "      <td>54.0</td>\n",
              "      <td>0.9970</td>\n",
              "      <td>3.26</td>\n",
              "      <td>0.65</td>\n",
              "      <td>9.8</td>\n",
              "      <td>1</td>\n",
              "      <td>5</td>\n",
              "    </tr>\n",
              "    <tr>\n",
              "      <th>3</th>\n",
              "      <td>11.2</td>\n",
              "      <td>0.28</td>\n",
              "      <td>0.56</td>\n",
              "      <td>1.9</td>\n",
              "      <td>0.075</td>\n",
              "      <td>17.0</td>\n",
              "      <td>60.0</td>\n",
              "      <td>0.9980</td>\n",
              "      <td>3.16</td>\n",
              "      <td>0.58</td>\n",
              "      <td>9.8</td>\n",
              "      <td>1</td>\n",
              "      <td>6</td>\n",
              "    </tr>\n",
              "    <tr>\n",
              "      <th>4</th>\n",
              "      <td>7.4</td>\n",
              "      <td>0.70</td>\n",
              "      <td>0.00</td>\n",
              "      <td>1.9</td>\n",
              "      <td>0.076</td>\n",
              "      <td>11.0</td>\n",
              "      <td>34.0</td>\n",
              "      <td>0.9978</td>\n",
              "      <td>3.51</td>\n",
              "      <td>0.56</td>\n",
              "      <td>9.4</td>\n",
              "      <td>1</td>\n",
              "      <td>5</td>\n",
              "    </tr>\n",
              "  </tbody>\n",
              "</table>\n",
              "</div>\n",
              "      <button class=\"colab-df-convert\" onclick=\"convertToInteractive('df-e8577475-91f8-4363-9769-72d1e41d0341')\"\n",
              "              title=\"Convert this dataframe to an interactive table.\"\n",
              "              style=\"display:none;\">\n",
              "        \n",
              "  <svg xmlns=\"http://www.w3.org/2000/svg\" height=\"24px\"viewBox=\"0 0 24 24\"\n",
              "       width=\"24px\">\n",
              "    <path d=\"M0 0h24v24H0V0z\" fill=\"none\"/>\n",
              "    <path d=\"M18.56 5.44l.94 2.06.94-2.06 2.06-.94-2.06-.94-.94-2.06-.94 2.06-2.06.94zm-11 1L8.5 8.5l.94-2.06 2.06-.94-2.06-.94L8.5 2.5l-.94 2.06-2.06.94zm10 10l.94 2.06.94-2.06 2.06-.94-2.06-.94-.94-2.06-.94 2.06-2.06.94z\"/><path d=\"M17.41 7.96l-1.37-1.37c-.4-.4-.92-.59-1.43-.59-.52 0-1.04.2-1.43.59L10.3 9.45l-7.72 7.72c-.78.78-.78 2.05 0 2.83L4 21.41c.39.39.9.59 1.41.59.51 0 1.02-.2 1.41-.59l7.78-7.78 2.81-2.81c.8-.78.8-2.07 0-2.86zM5.41 20L4 18.59l7.72-7.72 1.47 1.35L5.41 20z\"/>\n",
              "  </svg>\n",
              "      </button>\n",
              "      \n",
              "  <style>\n",
              "    .colab-df-container {\n",
              "      display:flex;\n",
              "      flex-wrap:wrap;\n",
              "      gap: 12px;\n",
              "    }\n",
              "\n",
              "    .colab-df-convert {\n",
              "      background-color: #E8F0FE;\n",
              "      border: none;\n",
              "      border-radius: 50%;\n",
              "      cursor: pointer;\n",
              "      display: none;\n",
              "      fill: #1967D2;\n",
              "      height: 32px;\n",
              "      padding: 0 0 0 0;\n",
              "      width: 32px;\n",
              "    }\n",
              "\n",
              "    .colab-df-convert:hover {\n",
              "      background-color: #E2EBFA;\n",
              "      box-shadow: 0px 1px 2px rgba(60, 64, 67, 0.3), 0px 1px 3px 1px rgba(60, 64, 67, 0.15);\n",
              "      fill: #174EA6;\n",
              "    }\n",
              "\n",
              "    [theme=dark] .colab-df-convert {\n",
              "      background-color: #3B4455;\n",
              "      fill: #D2E3FC;\n",
              "    }\n",
              "\n",
              "    [theme=dark] .colab-df-convert:hover {\n",
              "      background-color: #434B5C;\n",
              "      box-shadow: 0px 1px 3px 1px rgba(0, 0, 0, 0.15);\n",
              "      filter: drop-shadow(0px 1px 2px rgba(0, 0, 0, 0.3));\n",
              "      fill: #FFFFFF;\n",
              "    }\n",
              "  </style>\n",
              "\n",
              "      <script>\n",
              "        const buttonEl =\n",
              "          document.querySelector('#df-e8577475-91f8-4363-9769-72d1e41d0341 button.colab-df-convert');\n",
              "        buttonEl.style.display =\n",
              "          google.colab.kernel.accessAllowed ? 'block' : 'none';\n",
              "\n",
              "        async function convertToInteractive(key) {\n",
              "          const element = document.querySelector('#df-e8577475-91f8-4363-9769-72d1e41d0341');\n",
              "          const dataTable =\n",
              "            await google.colab.kernel.invokeFunction('convertToInteractive',\n",
              "                                                     [key], {});\n",
              "          if (!dataTable) return;\n",
              "\n",
              "          const docLinkHtml = 'Like what you see? Visit the ' +\n",
              "            '<a target=\"_blank\" href=https://colab.research.google.com/notebooks/data_table.ipynb>data table notebook</a>'\n",
              "            + ' to learn more about interactive tables.';\n",
              "          element.innerHTML = '';\n",
              "          dataTable['output_type'] = 'display_data';\n",
              "          await google.colab.output.renderOutput(dataTable, element);\n",
              "          const docLink = document.createElement('div');\n",
              "          docLink.innerHTML = docLinkHtml;\n",
              "          element.appendChild(docLink);\n",
              "        }\n",
              "      </script>\n",
              "    </div>\n",
              "  </div>\n",
              "  "
            ]
          },
          "metadata": {},
          "execution_count": 13
        }
      ],
      "source": [
        "winequality = winequality_base.copy()\n",
        " \n",
        "winequality['type'] = (winequality['type'] == 'red') + 0\n",
        " \n",
        "winequality.head()\n"
      ]
    },
    {
      "cell_type": "markdown",
      "metadata": {
        "id": "BM90R_i8OCik"
      },
      "source": [
        "---\n",
        "**2.c)** Perform a simple linear regression considering *quality* as the response and *pH* as the predictor. Given the results, comment on the following statements:"
      ]
    },
    {
      "cell_type": "code",
      "execution_count": 14,
      "metadata": {
        "colab": {
          "base_uri": "https://localhost:8080/"
        },
        "id": "teI35X_p9TAM",
        "outputId": "e1efe212-a8ce-474e-8742-d28371a80542"
      },
      "outputs": [
        {
          "output_type": "stream",
          "name": "stdout",
          "text": [
            "quality = 5.4774 + 0.1059 * pH\n"
          ]
        }
      ],
      "source": [
        "from sklearn.linear_model import LinearRegression\n",
        "from sklearn.metrics import r2_score\n",
        " \n",
        "## Assign the predictor and response to variables. To fit the data, the pandas dataframe must be converted into a numpy\n",
        "## array in a matricial shape, even if with a single column\n",
        "X = winequality['pH'].values.reshape(-1,1)\n",
        "y = winequality['quality'].values.reshape(-1, 1)\n",
        " \n",
        "## Initialize the model as a LinearRegression() function, and fit the data to it\n",
        "regr = LinearRegression()\n",
        "regr.fit(X, y)\n",
        " \n",
        "## Print the interception and coefficient\n",
        "print('quality = {:.4f} + {:.4f} * pH'.format(regr.intercept_[0], regr.coef_[0][0]))\n",
        " \n"
      ]
    },
    {
      "cell_type": "markdown",
      "metadata": {
        "id": "2BlMbcTJOsDD"
      },
      "source": [
        "---\n",
        "    i) Are the predictor and response statistically related?"
      ]
    },
    {
      "cell_type": "code",
      "source": [
        "from scipy.stats import pearsonr\n",
        "\n",
        "## Calcula a correlação\n",
        "winequality_corrs = winequality.corr()\n",
        "\n",
        "## Obtém o p-value\n",
        "pvals = winequality.corr(method=lambda x, y: pearsonr(x,y)[1])\n",
        "pvals_qp = pvals['quality']['pH']\n",
        "print('p-value: {:.6f}'.format(pvals_qp))"
      ],
      "metadata": {
        "colab": {
          "base_uri": "https://localhost:8080/"
        },
        "id": "vaXJNgIORmLq",
        "outputId": "5e31d8e6-b426-40ca-8c5f-0f782106d61f"
      },
      "execution_count": 15,
      "outputs": [
        {
          "output_type": "stream",
          "name": "stdout",
          "text": [
            "p-value: 0.115931\n"
          ]
        }
      ]
    },
    {
      "cell_type": "markdown",
      "metadata": {
        "id": "vSXVdwcaT0EA"
      },
      "source": [
        "In order to be statistically related, the p-value shown be **equal or lower than 0.05**. Being that is is equal to *0.115931*, we can conclude that the predictor and resposnse **are not** statistically related.\n",
        "\n",
        "\n"
      ]
    },
    {
      "cell_type": "markdown",
      "metadata": {
        "id": "ir5VRfrmO8o6"
      },
      "source": [
        "---\n",
        "    ii) How strong is the relationship between predictor and response? (*Hint: comment on the R^2 score of the model*)"
      ]
    },
    {
      "cell_type": "code",
      "source": [
        "## To calculate the R^2 score, the prediction of medv is calculate using the predict method.\n",
        "quality_pred = regr.predict(X)\n",
        "r2_value = r2_score(y, quality_pred)\n",
        "print('R^2: {:.4f}'.format(r2_value))"
      ],
      "metadata": {
        "colab": {
          "base_uri": "https://localhost:8080/"
        },
        "id": "N90IeDrpTYZQ",
        "outputId": "796d62fb-aa3b-46cf-a4b8-9af04438b5e4"
      },
      "execution_count": 16,
      "outputs": [
        {
          "output_type": "stream",
          "name": "stdout",
          "text": [
            "R^2: 0.0004\n"
          ]
        }
      ]
    },
    {
      "cell_type": "markdown",
      "metadata": {
        "id": "RdBM5qXAi374"
      },
      "source": [
        "There is almost no relationship to be considered between the predictor and the response, because the R^2 score is close to zero (*0.0004*)."
      ]
    },
    {
      "cell_type": "markdown",
      "metadata": {
        "id": "D9JSjxC3O8x3"
      },
      "source": [
        "---\n",
        "    iii) Is the relationship between the predictor and response positive or negative?"
      ]
    },
    {
      "cell_type": "markdown",
      "metadata": {
        "id": "60XhMbxVi95m"
      },
      "source": [
        "The relationship is positive because the slope of the linear regression is positive (*0.1059*)."
      ]
    },
    {
      "cell_type": "markdown",
      "metadata": {
        "id": "mIzssLawO84u"
      },
      "source": [
        "---\n",
        "    iv) What is the predicted value of quality when the pH is 9?"
      ]
    },
    {
      "cell_type": "code",
      "execution_count": 17,
      "metadata": {
        "colab": {
          "base_uri": "https://localhost:8080/"
        },
        "id": "637jEcQD_r7z",
        "outputId": "58ac3ccd-7a81-4d6d-8b96-6500c8d3b93f"
      },
      "outputs": [
        {
          "output_type": "stream",
          "name": "stdout",
          "text": [
            "The predicted value for the quality when the pH is 9 is 6.4309\n"
          ]
        }
      ],
      "source": [
        "#Using the calculated linear regression\n",
        "pH=9\n",
        "quality = regr.intercept_[0] + regr.coef_[0][0] * pH\n",
        "print('The predicted value for the quality when the pH is 9 is {:.4f}'.format( quality))\n"
      ]
    },
    {
      "cell_type": "markdown",
      "metadata": {
        "id": "yRYL0_TeQQfp"
      },
      "source": [
        "---\n",
        "**2.d)** Plot a scatter plot of the response and predictor, along with the regression line."
      ]
    },
    {
      "cell_type": "code",
      "execution_count": 18,
      "metadata": {
        "colab": {
          "base_uri": "https://localhost:8080/",
          "height": 0
        },
        "id": "S7QpN6n1APVa",
        "outputId": "8b28b9e2-0f48-4d7a-c35d-33a618fcecc3"
      },
      "outputs": [
        {
          "output_type": "display_data",
          "data": {
            "text/plain": [
              "<Figure size 1080x432 with 1 Axes>"
            ],
            "image/png": "[encoded data removed]"
          },
          "metadata": {
            "needs_background": "light"
          }
        }
      ],
      "source": [
        "## Definir os limites de pH e os valores correspondentes de qualidade\n",
        "limits_pH = np.array([min(X), max(X)])\n",
        "quality_vals = regr.intercept_[0] + regr.coef_[0][0]*limits_pH\n",
        " \n",
        "## Plot the scatterplot and the regression line\n",
        "plt.rcParams['figure.figsize'] = [15, 6]\n",
        "plt.plot(winequality['pH'], winequality['quality'], '.r')\n",
        "plt.plot(limits_pH, quality_vals, 'b-')\n",
        "plt.show()\n"
      ]
    },
    {
      "cell_type": "markdown",
      "metadata": {
        "id": "1xBHkVadQ5Ot"
      },
      "source": [
        "---\n",
        "## Section 2 -- Classification"
      ]
    },
    {
      "cell_type": "markdown",
      "metadata": {
        "id": "SIpGTVYkRD9A"
      },
      "source": [
        "**3)** Suppose that a dataset is divided into two equally-sized training and test sets, and then try out two different classification procedures:\n",
        "\n",
        "* The first is the logistic regression, obtaining an error rate of 20% on the training data and 30% on the test data.\n",
        "* The second is a 1-nearest neighbors, with an average error rate (averaged over test and training datasets) of 18%.\n",
        "\n",
        "Based on these results, which method is preferred for classifying new observations? Why?"
      ]
    },
    {
      "cell_type": "markdown",
      "metadata": {
        "id": "oEJ5d1t5oLy9"
      },
      "source": [
        "The **training error is equal to 0** when using the **KNN method** (with K=1) because the training values themselves are used to calculate the error. So an averaged error of 18% means a **36% error** in the test dataset, making it worse that 30%.\\\n",
        "Therefore **we can consider that performing a logistic regression is better**, in terms of classifying new observations"
      ]
    },
    {
      "cell_type": "markdown",
      "metadata": {
        "id": "rpJxxZkFSjg3"
      },
      "source": [
        "---\n",
        "**4.a)** Create a new column, \"quality7\", that contains a 1 if quality contains a value equal or above 7, and a 0 if quality contains a value below 7. Drop the original column \"quality\"."
      ]
    },
    {
      "cell_type": "code",
      "execution_count": 19,
      "metadata": {
        "colab": {
          "base_uri": "https://localhost:8080/",
          "height": 305
        },
        "id": "h3qCZb_OGTcD",
        "outputId": "d120a079-9623-4b4d-d26b-8c84096e95c0"
      },
      "outputs": [
        {
          "output_type": "execute_result",
          "data": {
            "text/plain": [
              "   fixed acidity  volatile acidity  citric acid  residual sugar  chlorides  \\\n",
              "0            7.4              0.70         0.00             1.9      0.076   \n",
              "1            7.8              0.88         0.00             2.6      0.098   \n",
              "2            7.8              0.76         0.04             2.3      0.092   \n",
              "3           11.2              0.28         0.56             1.9      0.075   \n",
              "4            7.4              0.70         0.00             1.9      0.076   \n",
              "\n",
              "   free sulfur dioxide  total sulfur dioxide  density    pH  sulphates  \\\n",
              "0                 11.0                  34.0   0.9978  3.51       0.56   \n",
              "1                 25.0                  67.0   0.9968  3.20       0.68   \n",
              "2                 15.0                  54.0   0.9970  3.26       0.65   \n",
              "3                 17.0                  60.0   0.9980  3.16       0.58   \n",
              "4                 11.0                  34.0   0.9978  3.51       0.56   \n",
              "\n",
              "   alcohol  type  quality7  \n",
              "0      9.4     1         0  \n",
              "1      9.8     1         0  \n",
              "2      9.8     1         0  \n",
              "3      9.8     1         0  \n",
              "4      9.4     1         0  "
            ],
            "text/html": [
              "\n",
              "  <div id=\"df-36314fe2-b292-448d-9f00-b2f271efdbfa\">\n",
              "    <div class=\"colab-df-container\">\n",
              "      <div>\n",
              "<style scoped>\n",
              "    .dataframe tbody tr th:only-of-type {\n",
              "        vertical-align: middle;\n",
              "    }\n",
              "\n",
              "    .dataframe tbody tr th {\n",
              "        vertical-align: top;\n",
              "    }\n",
              "\n",
              "    .dataframe thead th {\n",
              "        text-align: right;\n",
              "    }\n",
              "</style>\n",
              "<table border=\"1\" class=\"dataframe\">\n",
              "  <thead>\n",
              "    <tr style=\"text-align: right;\">\n",
              "      <th></th>\n",
              "      <th>fixed acidity</th>\n",
              "      <th>volatile acidity</th>\n",
              "      <th>citric acid</th>\n",
              "      <th>residual sugar</th>\n",
              "      <th>chlorides</th>\n",
              "      <th>free sulfur dioxide</th>\n",
              "      <th>total sulfur dioxide</th>\n",
              "      <th>density</th>\n",
              "      <th>pH</th>\n",
              "      <th>sulphates</th>\n",
              "      <th>alcohol</th>\n",
              "      <th>type</th>\n",
              "      <th>quality7</th>\n",
              "    </tr>\n",
              "  </thead>\n",
              "  <tbody>\n",
              "    <tr>\n",
              "      <th>0</th>\n",
              "      <td>7.4</td>\n",
              "      <td>0.70</td>\n",
              "      <td>0.00</td>\n",
              "      <td>1.9</td>\n",
              "      <td>0.076</td>\n",
              "      <td>11.0</td>\n",
              "      <td>34.0</td>\n",
              "      <td>0.9978</td>\n",
              "      <td>3.51</td>\n",
              "      <td>0.56</td>\n",
              "      <td>9.4</td>\n",
              "      <td>1</td>\n",
              "      <td>0</td>\n",
              "    </tr>\n",
              "    <tr>\n",
              "      <th>1</th>\n",
              "      <td>7.8</td>\n",
              "      <td>0.88</td>\n",
              "      <td>0.00</td>\n",
              "      <td>2.6</td>\n",
              "      <td>0.098</td>\n",
              "      <td>25.0</td>\n",
              "      <td>67.0</td>\n",
              "      <td>0.9968</td>\n",
              "      <td>3.20</td>\n",
              "      <td>0.68</td>\n",
              "      <td>9.8</td>\n",
              "      <td>1</td>\n",
              "      <td>0</td>\n",
              "    </tr>\n",
              "    <tr>\n",
              "      <th>2</th>\n",
              "      <td>7.8</td>\n",
              "      <td>0.76</td>\n",
              "      <td>0.04</td>\n",
              "      <td>2.3</td>\n",
              "      <td>0.092</td>\n",
              "      <td>15.0</td>\n",
              "      <td>54.0</td>\n",
              "      <td>0.9970</td>\n",
              "      <td>3.26</td>\n",
              "      <td>0.65</td>\n",
              "      <td>9.8</td>\n",
              "      <td>1</td>\n",
              "      <td>0</td>\n",
              "    </tr>\n",
              "    <tr>\n",
              "      <th>3</th>\n",
              "      <td>11.2</td>\n",
              "      <td>0.28</td>\n",
              "      <td>0.56</td>\n",
              "      <td>1.9</td>\n",
              "      <td>0.075</td>\n",
              "      <td>17.0</td>\n",
              "      <td>60.0</td>\n",
              "      <td>0.9980</td>\n",
              "      <td>3.16</td>\n",
              "      <td>0.58</td>\n",
              "      <td>9.8</td>\n",
              "      <td>1</td>\n",
              "      <td>0</td>\n",
              "    </tr>\n",
              "    <tr>\n",
              "      <th>4</th>\n",
              "      <td>7.4</td>\n",
              "      <td>0.70</td>\n",
              "      <td>0.00</td>\n",
              "      <td>1.9</td>\n",
              "      <td>0.076</td>\n",
              "      <td>11.0</td>\n",
              "      <td>34.0</td>\n",
              "      <td>0.9978</td>\n",
              "      <td>3.51</td>\n",
              "      <td>0.56</td>\n",
              "      <td>9.4</td>\n",
              "      <td>1</td>\n",
              "      <td>0</td>\n",
              "    </tr>\n",
              "  </tbody>\n",
              "</table>\n",
              "</div>\n",
              "      <button class=\"colab-df-convert\" onclick=\"convertToInteractive('df-36314fe2-b292-448d-9f00-b2f271efdbfa')\"\n",
              "              title=\"Convert this dataframe to an interactive table.\"\n",
              "              style=\"display:none;\">\n",
              "        \n",
              "  <svg xmlns=\"http://www.w3.org/2000/svg\" height=\"24px\"viewBox=\"0 0 24 24\"\n",
              "       width=\"24px\">\n",
              "    <path d=\"M0 0h24v24H0V0z\" fill=\"none\"/>\n",
              "    <path d=\"M18.56 5.44l.94 2.06.94-2.06 2.06-.94-2.06-.94-.94-2.06-.94 2.06-2.06.94zm-11 1L8.5 8.5l.94-2.06 2.06-.94-2.06-.94L8.5 2.5l-.94 2.06-2.06.94zm10 10l.94 2.06.94-2.06 2.06-.94-2.06-.94-.94-2.06-.94 2.06-2.06.94z\"/><path d=\"M17.41 7.96l-1.37-1.37c-.4-.4-.92-.59-1.43-.59-.52 0-1.04.2-1.43.59L10.3 9.45l-7.72 7.72c-.78.78-.78 2.05 0 2.83L4 21.41c.39.39.9.59 1.41.59.51 0 1.02-.2 1.41-.59l7.78-7.78 2.81-2.81c.8-.78.8-2.07 0-2.86zM5.41 20L4 18.59l7.72-7.72 1.47 1.35L5.41 20z\"/>\n",
              "  </svg>\n",
              "      </button>\n",
              "      \n",
              "  <style>\n",
              "    .colab-df-container {\n",
              "      display:flex;\n",
              "      flex-wrap:wrap;\n",
              "      gap: 12px;\n",
              "    }\n",
              "\n",
              "    .colab-df-convert {\n",
              "      background-color: #E8F0FE;\n",
              "      border: none;\n",
              "      border-radius: 50%;\n",
              "      cursor: pointer;\n",
              "      display: none;\n",
              "      fill: #1967D2;\n",
              "      height: 32px;\n",
              "      padding: 0 0 0 0;\n",
              "      width: 32px;\n",
              "    }\n",
              "\n",
              "    .colab-df-convert:hover {\n",
              "      background-color: #E2EBFA;\n",
              "      box-shadow: 0px 1px 2px rgba(60, 64, 67, 0.3), 0px 1px 3px 1px rgba(60, 64, 67, 0.15);\n",
              "      fill: #174EA6;\n",
              "    }\n",
              "\n",
              "    [theme=dark] .colab-df-convert {\n",
              "      background-color: #3B4455;\n",
              "      fill: #D2E3FC;\n",
              "    }\n",
              "\n",
              "    [theme=dark] .colab-df-convert:hover {\n",
              "      background-color: #434B5C;\n",
              "      box-shadow: 0px 1px 3px 1px rgba(0, 0, 0, 0.15);\n",
              "      filter: drop-shadow(0px 1px 2px rgba(0, 0, 0, 0.3));\n",
              "      fill: #FFFFFF;\n",
              "    }\n",
              "  </style>\n",
              "\n",
              "      <script>\n",
              "        const buttonEl =\n",
              "          document.querySelector('#df-36314fe2-b292-448d-9f00-b2f271efdbfa button.colab-df-convert');\n",
              "        buttonEl.style.display =\n",
              "          google.colab.kernel.accessAllowed ? 'block' : 'none';\n",
              "\n",
              "        async function convertToInteractive(key) {\n",
              "          const element = document.querySelector('#df-36314fe2-b292-448d-9f00-b2f271efdbfa');\n",
              "          const dataTable =\n",
              "            await google.colab.kernel.invokeFunction('convertToInteractive',\n",
              "                                                     [key], {});\n",
              "          if (!dataTable) return;\n",
              "\n",
              "          const docLinkHtml = 'Like what you see? Visit the ' +\n",
              "            '<a target=\"_blank\" href=https://colab.research.google.com/notebooks/data_table.ipynb>data table notebook</a>'\n",
              "            + ' to learn more about interactive tables.';\n",
              "          element.innerHTML = '';\n",
              "          dataTable['output_type'] = 'display_data';\n",
              "          await google.colab.output.renderOutput(dataTable, element);\n",
              "          const docLink = document.createElement('div');\n",
              "          docLink.innerHTML = docLinkHtml;\n",
              "          element.appendChild(docLink);\n",
              "        }\n",
              "      </script>\n",
              "    </div>\n",
              "  </div>\n",
              "  "
            ]
          },
          "metadata": {},
          "execution_count": 19
        }
      ],
      "source": [
        "winequality7 = winequality.drop(columns=['quality'])\n",
        "winequality7['quality7'] = (winequality['quality'] >= 7) + 0\n",
        " \n",
        "winequality7.head()\n"
      ]
    },
    {
      "cell_type": "markdown",
      "metadata": {
        "id": "xHvwjfYscqAl"
      },
      "source": [
        "\n",
        "\n",
        "---\n",
        "\n",
        "\n",
        "**4.b)** Do a correlation matrix plot between all the columns to evaluate which features are linearly correlated. Consider a statistical significance of 0.1%. Describe your findings, with a focus on evaluating which features are most related with \"quality7\". \n",
        "\n",
        "\n"
      ]
    },
    {
      "cell_type": "code",
      "execution_count": 20,
      "metadata": {
        "colab": {
          "base_uri": "https://localhost:8080/",
          "height": 567
        },
        "id": "JXN8YYCgGs0K",
        "outputId": "a392b9fc-6ef8-48d6-850b-e632e064419c"
      },
      "outputs": [
        {
          "output_type": "display_data",
          "data": {
            "text/plain": [
              "<Figure size 864x576 with 2 Axes>"
            ],
            "image/png": "[encoded data removed]"
          },
          "metadata": {
            "needs_background": "light"
          }
        }
      ],
      "source": [
        "from scipy.stats import pearsonr\n",
        " \n",
        "## Calcular as correlações\n",
        "winequality7_corrs = winequality7.corr()\n",
        " \n",
        "## Calcular o p-value\n",
        "pvals = winequality7.corr(method=lambda x, y:pearsonr(x,y)[1])\n",
        " \n",
        "## Cria a mask a ser aplicada posteriormente\n",
        "ptg = 0.1/100\n",
        "mask = pvals > ptg\n",
        " \n",
        "## Plot aos gráficos\n",
        "plt.subplots(figsize=(12,8))\n",
        "sns.heatmap(winequality7_corrs, mask=mask, square=True, annot= True, cmap='coolwarm')\n",
        "plt.show()\n"
      ]
    },
    {
      "cell_type": "markdown",
      "source": [
        "The correlation matrix presents some strong correlations between: '**total sulfur dioxide**' & '**free sulfur dioxide**', and '**type**' & '**volatile acidity**'. There are also strong negative correlations between: '**total sulfur dioxide**' & '**type**', and '**density**' & '**alcohol**'. \n",
        "\n",
        "'**quality7**'shows little correlation with other variables, being the most noticeble with '**alcohol**'. This indicates that a wine with a higher alcohol content is more likely to have a quality level of seven or higher.\n",
        "\n",
        "---"
      ],
      "metadata": {
        "id": "d6FxPDC_MGyb"
      }
    },
    {
      "cell_type": "markdown",
      "metadata": {
        "id": "8168IcmcSjd4"
      },
      "source": [
        "**4.c)** Create the inputs as all the predictors and outputs as the \"quality7\" feature. Split the data into test and training datasets. Consider a test dataset comprised of 30% of the whole dataset."
      ]
    },
    {
      "cell_type": "code",
      "execution_count": 21,
      "metadata": {
        "id": "Zmk2OAC3w-W6"
      },
      "outputs": [],
      "source": [
        "from sklearn import model_selection\n",
        "from random import sample\n",
        "import random\n",
        " \n",
        "## Estabelece os indices dos datasets de teste e treino\n",
        "test_size = 0.3      # Ratio of test dataset\n",
        "seed = 100           # Random seed\n",
        "random.seed(seed)    # Apply random seed\n",
        "idxs_test = sample(range(winequality7.shape[0]), int(test_size * winequality7.shape[0]))  # Sample idxs for test datasets\n",
        "idxs_train = [i for i in range(winequality7.shape[0]) if i not in idxs_test] # Obtain the remaining idxs as training\n",
        " \n",
        "## Designa os predictos e outputs\n",
        "X_winequality7 = winequality7.drop(columns=['quality7'])\n",
        "X = X_winequality7.values\n",
        "y = winequality7['quality7'].values\n",
        " \n",
        "## Divide os vetores de input e output\n",
        "X_train = X[idxs_train,:]\n",
        "X_test = X[idxs_test,:]\n",
        " \n",
        "y_train = y[idxs_train]\n",
        "y_test = y[idxs_test]\n"
      ]
    },
    {
      "cell_type": "markdown",
      "metadata": {
        "id": "IWepa-QISjbZ"
      },
      "source": [
        "---\n",
        "**4.d)** Perform LDA on the training data in order to predict \"quality7\" using the remaining variables. What is the test error of the model obtained?"
      ]
    },
    {
      "cell_type": "code",
      "execution_count": 22,
      "metadata": {
        "colab": {
          "base_uri": "https://localhost:8080/"
        },
        "id": "bQquLCRDyizP",
        "outputId": "d023bc34-00df-4bac-ec9a-58c39b9b135c"
      },
      "outputs": [
        {
          "output_type": "stream",
          "name": "stdout",
          "text": [
            "\n",
            "                   Actual\n",
            "                  <7 |  >=7\n",
            "  Predicted <7:  1484  |  259\n",
            " Predicted >=7:  96  |  110\n",
            "\n",
            "Model Error: 18.21%\n"
          ]
        }
      ],
      "source": [
        "## lINEAR DISCRIMINANT ANALYSIS\n",
        "from sklearn.discriminant_analysis import LinearDiscriminantAnalysis\n",
        "from sklearn.metrics import confusion_matrix\n",
        "from sklearn.metrics import accuracy_score\n",
        " \n",
        "## Criar o modelo\n",
        "model = LinearDiscriminantAnalysis()\n",
        "model.fit(X_train,y_train)\n",
        " \n",
        "## Prevê os próximos resultados\n",
        "y_pred = model.predict(X_test)\n",
        "cm = confusion_matrix(y_test, y_pred)\n",
        " \n",
        "print ('\\n' + 'Actual'.rjust(25))\n",
        "print ('{} |  {}'.format('<7'.rjust(20),'>=7'))\n",
        "print ('{}:  {}  |  {}'.format('Predicted <7'.rjust(14), cm[0,0], cm[1,0]))\n",
        "print ('{}:  {}  |  {}'.format('Predicted >=7'.rjust(14), cm[0,1], cm[1,1]))\n",
        "print('\\nModel Error: {:.2f}%'.format(100-accuracy_score(y_pred, y_test)*100))\n",
        " \n",
        "## Store the necessary variables\n",
        "cols_to_store = [i for i in range(len(model.classes_)) if model.classes_[i] == 1]\n",
        "y_LDA_pred = model.predict_proba(X_test)[:,cols_to_store]\n",
        "y_LDA_true = (y_test.copy() == 1).copy()\n"
      ]
    },
    {
      "cell_type": "markdown",
      "metadata": {
        "id": "YWiMguFvSjWE"
      },
      "source": [
        "---\n",
        "**4.e)** Perform QDA on the training data in order to predict \"quality7\" using the remaining variables. What is the test error of the model obtained?"
      ]
    },
    {
      "cell_type": "code",
      "execution_count": 23,
      "metadata": {
        "colab": {
          "base_uri": "https://localhost:8080/"
        },
        "id": "bvzDUm5sze_l",
        "outputId": "946165fc-8702-4244-f7d1-e8367a0136ee"
      },
      "outputs": [
        {
          "output_type": "stream",
          "name": "stdout",
          "text": [
            "\n",
            "                   Actual\n",
            "                  <7 |  >=7\n",
            "  Predicted <7:  1161  |  106\n",
            " Predicted >=7:  419  |  263\n",
            "\n",
            "Model Error: 26.94%\n"
          ]
        }
      ],
      "source": [
        "## QUADRATIC DISCRIMINANT ANALYSIS\n",
        "from sklearn.discriminant_analysis import QuadraticDiscriminantAnalysis\n",
        " \n",
        "## Criar o modelo\n",
        "model = QuadraticDiscriminantAnalysis()\n",
        "model.fit(X_train,y_train)\n",
        " \n",
        "## Prevê os próximos resultados\n",
        "y_pred = model.predict(X_test)\n",
        "cm = confusion_matrix(y_test, y_pred)\n",
        " \n",
        "print ('\\n' + 'Actual'.rjust(25))\n",
        "print ('{} |  {}'.format('<7'.rjust(20),'>=7'))\n",
        "print ('{}:  {}  |  {}'.format('Predicted <7'.rjust(14), cm[0,0], cm[1,0]))\n",
        "print ('{}:  {}  |  {}'.format('Predicted >=7'.rjust(14), cm[0,1], cm[1,1]))\n",
        "print('\\nModel Error: {:.2f}%'.format(100-accuracy_score(y_pred, y_test)*100))\n",
        " \n",
        "## Store the necessary variables\n",
        "cols_to_store = [i for i in range(len(model.classes_)) if model.classes_[i] == 1]\n",
        "y_QDA_pred = model.predict_proba(X_test)[:,cols_to_store]\n",
        "y_QDA_true = (y_test.copy() == 1).copy()\n"
      ]
    },
    {
      "cell_type": "markdown",
      "metadata": {
        "id": "DFAhEuhSSjOz"
      },
      "source": [
        "---\n",
        "**4.f)** Perform logistic regression on the training data in order to predict \"quality7\" using the remaining variables. What is the test error of the model obtained?"
      ]
    },
    {
      "cell_type": "code",
      "execution_count": 24,
      "metadata": {
        "colab": {
          "base_uri": "https://localhost:8080/"
        },
        "id": "7oVkI9QUzufY",
        "outputId": "aab28783-52e8-4d11-9714-0167a00ad8eb"
      },
      "outputs": [
        {
          "output_type": "stream",
          "name": "stdout",
          "text": [
            "\n",
            "                   Actual\n",
            "                  <7 |  >=7\n",
            "  Predicted <7:  1518  |  289\n",
            " Predicted >=7:  62  |  80\n",
            "\n",
            "Mode Error: 18.01%\n"
          ]
        },
        {
          "output_type": "stream",
          "name": "stderr",
          "text": [
            "/usr/local/lib/python3.8/dist-packages/sklearn/linear_model/_logistic.py:814: ConvergenceWarning: lbfgs failed to converge (status=1):\n",
            "STOP: TOTAL NO. of ITERATIONS REACHED LIMIT.\n",
            "\n",
            "Increase the number of iterations (max_iter) or scale the data as shown in:\n",
            "    https://scikit-learn.org/stable/modules/preprocessing.html\n",
            "Please also refer to the documentation for alternative solver options:\n",
            "    https://scikit-learn.org/stable/modules/linear_model.html#logistic-regression\n",
            "  n_iter_i = _check_optimize_result(\n"
          ]
        }
      ],
      "source": [
        "##  LOGISTIC REGRESSION\n",
        "from sklearn.linear_model import LogisticRegression\n",
        " \n",
        " \n",
        "## Criar o modelo\n",
        "model = LogisticRegression(max_iter = 1000)\n",
        "model.fit(X_train,y_train)\n",
        " \n",
        "## Prevê os próximos resultados\n",
        "y_pred = model.predict(X_test)\n",
        "cm = confusion_matrix(y_test, y_pred)\n",
        " \n",
        "print ('\\n' + 'Actual'.rjust(25))\n",
        "print ('{} |  {}'.format('<7'.rjust(20),'>=7'))\n",
        "print ('{}:  {}  |  {}'.format('Predicted <7'.rjust(14), cm[0,0], cm[1,0]))\n",
        "print ('{}:  {}  |  {}'.format('Predicted >=7'.rjust(14), cm[0,1], cm[1,1]))\n",
        "print('\\nMode Error: {:.2f}%'.format(100-accuracy_score(y_pred, y_test)*100))\n",
        " \n",
        "## Store the necessary variables\n",
        "cols_to_store = [i for i in range(len(model.classes_)) if model.classes_[i] == 1]\n",
        "y_logistic_pred = model.predict_proba(X_test)[:,cols_to_store]\n",
        "y_logistic_true = (y_test.copy() == 1).copy()\n"
      ]
    },
    {
      "cell_type": "markdown",
      "metadata": {
        "id": "dJUvW41ViqMc"
      },
      "source": [
        "---\n",
        "**4.g)** Perform naive Bayes on the training data in order to predict \"quality7\" using the remaining variables. What is the test error of the model obtained?"
      ]
    },
    {
      "cell_type": "code",
      "execution_count": 25,
      "metadata": {
        "colab": {
          "base_uri": "https://localhost:8080/"
        },
        "id": "U6pzjPGc1y_t",
        "outputId": "0d1fcb76-cd0f-4d00-b7fe-c2b36c233a4d"
      },
      "outputs": [
        {
          "output_type": "stream",
          "name": "stdout",
          "text": [
            "\n",
            "                   Actual\n",
            "                  <7 |  >=7\n",
            "  Predicted <7:  1152  |  136\n",
            " Predicted >=7:  428  |  233\n",
            "\n",
            "Model Error: 28.94%\n"
          ]
        }
      ],
      "source": [
        "## NAIVE BAYES\n",
        "from sklearn.naive_bayes import GaussianNB\n",
        " \n",
        "## Criar o modelo\n",
        "model = GaussianNB()\n",
        "model.fit(X_train, y_train)\n",
        " \n",
        "## Prevê os próximos resultados\n",
        "y_pred = model.predict(X_test)\n",
        "cm = confusion_matrix(y_test, y_pred)\n",
        " \n",
        "print ('\\n' + 'Actual'.rjust(25))\n",
        "print ('{} |  {}'.format('<7'.rjust(20),'>=7'))\n",
        "print ('{}:  {}  |  {}'.format('Predicted <7'.rjust(14), cm[0,0], cm[1,0]))\n",
        "print ('{}:  {}  |  {}'.format('Predicted >=7'.rjust(14), cm[0,1], cm[1,1]))\n",
        "print('\\nModel Error: {:.2f}%'.format(100-accuracy_score(y_pred, y_test)*100))\n",
        " \n",
        "## Store the necessary variables\n",
        "cols_to_store = [i for i in range(len(model.classes_)) if model.classes_[i] == 1]\n",
        "y_GNB_pred = model.predict_proba(X_test)[:,cols_to_store]\n",
        "y_GNB_true = (y_test.copy() == 1).copy()"
      ]
    },
    {
      "cell_type": "markdown",
      "metadata": {
        "id": "tPRBsCLviqKm"
      },
      "source": [
        "---\n",
        "**4.h)** Perform KNN on the training data, with several values of K, in order to predict \"quality7\" using the remaining variables. What test errors are obtained? Which value of K seems to perform the best on this data set?"
      ]
    },
    {
      "cell_type": "code",
      "execution_count": 26,
      "metadata": {
        "colab": {
          "base_uri": "https://localhost:8080/",
          "height": 417
        },
        "id": "KCXGQmN52G7W",
        "outputId": "45f1b3ca-d35a-44f8-bc6b-0f00ddc3ae1c"
      },
      "outputs": [
        {
          "output_type": "display_data",
          "data": {
            "text/plain": [
              "<Figure size 1152x360 with 1 Axes>"
            ],
            "image/png": "[encoded data removed]"
          },
          "metadata": {
            "needs_background": "light"
          }
        },
        {
          "output_type": "stream",
          "name": "stdout",
          "text": [
            "\n",
            "                   Actual\n",
            "                  <7 |  >=7\n",
            "  Predicted <7:  1486  |  263\n",
            " Predicted >=7:  94  |  106\n",
            "\n",
            "Model Error: 18.32%\n"
          ]
        }
      ],
      "source": [
        "from sklearn.neighbors import KNeighborsClassifier\n",
        "import warnings\n",
        "warnings.filterwarnings('ignore')\n",
        " \n",
        " \n",
        "def KNN_fit(X_train, X_test, y_train, y_test, n_neighbors, verbosity=0):\n",
        "    \n",
        "    ## Create the model and fit the data to it\n",
        "    model = KNeighborsClassifier(n_neighbors=n_neighbors)\n",
        "    model.fit(X_train, y_train)\n",
        " \n",
        "    ## Predict the classification and print the confusion matrix\n",
        "    y_pred = model.predict(X_test)\n",
        "    cm = confusion_matrix(y_test, y_pred)\n",
        "    accuracy_val = accuracy_score(y_pred, y_test)*100\n",
        "    \n",
        "    if verbosity == 1:\n",
        "        print ('\\n' + 'Actual'.rjust(25))\n",
        "        print ('{} |  {}'.format('<7'.rjust(20),'>=7'))\n",
        "        print ('{}:  {}  |  {}'.format('Predicted <7'.rjust(14), cm[0,0], cm[1,0]))\n",
        "        print ('{}:  {}  |  {}'.format('Predicted >=7'.rjust(14), cm[0,1], cm[1,1]))\n",
        "        print('\\nModel Error: {:.2f}%'.format(100-accuracy_val))\n",
        "    \n",
        "    return model, accuracy_val\n",
        " \n",
        " \n",
        " \n",
        "## Initialize a list to store the accuracies\n",
        "accuracies = []\n",
        "knn_limit = 15\n",
        " \n",
        "## Access the custom created KNN function to calculate the accuracy for each number of neighbors\n",
        "for i in range(knn_limit):\n",
        "    _, accuracy_val = KNN_fit(X_train, X_test, y_train, y_test, n_neighbors=i+1, verbosity=0)\n",
        "    accuracies.append(accuracy_val)\n",
        " \n",
        "## Plot the results\n",
        "plt.subplots(figsize=(16, 5))\n",
        "plt.plot([i+1 for i in range(knn_limit)], accuracies)\n",
        "plt.xlabel('k Value')\n",
        "plt.ylabel('Accuracy')\n",
        "plt.show()\n",
        " \n",
        " \n",
        "## Guarda Informação Importante\n",
        "model, accuracy_val = KNN_fit(X_train, X_test, y_train, y_test, n_neighbors=2, verbosity=1)\n",
        "cols_to_store = [i for i in range(len(model.classes_)) if model.classes_[i] == 1]\n",
        "y_KNN_pred = model.predict_proba(X_test)[:,cols_to_store]\n",
        "y_KNN_true = (y_test.copy() == 1).copy()"
      ]
    },
    {
      "cell_type": "markdown",
      "metadata": {
        "id": "nvhamoK0i2WZ"
      },
      "source": [
        "---\n",
        "**4.i)** Calculate the area under curve (AUC) for the LDA, QDA, logistic regression, naive Bayes and for the best value of K for the KNN method. Compare the results."
      ]
    },
    {
      "cell_type": "code",
      "execution_count": 27,
      "metadata": {
        "colab": {
          "base_uri": "https://localhost:8080/"
        },
        "id": "1rxOt0MU8DCK",
        "outputId": "7a888891-82c5-4078-cb8c-f6e2e435e968"
      },
      "outputs": [
        {
          "output_type": "stream",
          "name": "stdout",
          "text": [
            "                      AUC\n",
            "                LDA: 0.806\n",
            "                QDA: 0.807\n",
            "Logistic Regression: 0.80509\n",
            "        Naive Bayes: 0.736\n",
            "                KNN: 0.727\n"
          ]
        }
      ],
      "source": [
        "from sklearn.metrics import roc_curve\n",
        "from sklearn.metrics import roc_auc_score\n",
        " \n",
        "## Calcula as curvas\n",
        "lr_fpr, lr_tpr, _ = roc_curve(y_logistic_true, y_logistic_pred)\n",
        "lr_fpr1, lr_tpr1, _ = roc_curve(y_LDA_true, y_LDA_pred)\n",
        "lr_fpr2, lr_tpr2, _ = roc_curve(y_QDA_true, y_QDA_pred)\n",
        "lr_fpr3, lr_tpr3, _ = roc_curve(y_GNB_true, y_GNB_pred)\n",
        "lr_fpr4, lr_tpr4, _ = roc_curve(y_KNN_true, y_KNN_pred)\n",
        " \n",
        " \n",
        " \n",
        "## Mostra os resultados da AUC\n",
        "print('AUC'.rjust(25))\n",
        "print('{}: {:.3f}'.format('LDA'.rjust(19), roc_auc_score(y_LDA_true, y_LDA_pred)))\n",
        "print('{}: {:.3f}'.format('QDA'.rjust(19), roc_auc_score(y_QDA_true, y_QDA_pred)))\n",
        "print('{}: {:.5f}'.format('Logistic Regression'.rjust(19), roc_auc_score(y_logistic_true, y_logistic_pred)))\n",
        "print('{}: {:.3f}'.format('Naive Bayes'.rjust(19), roc_auc_score(y_GNB_true, y_GNB_pred)))\n",
        "print('{}: {:.3f}'.format('KNN'.rjust(19), roc_auc_score(y_KNN_true, y_KNN_pred)))\n"
      ]
    },
    {
      "cell_type": "markdown",
      "metadata": {
        "id": "4lIdTsrlVDzt"
      },
      "source": [
        "---\n",
        "**4.j)** Plot the ROC curves for the 5 methods. Compare the results."
      ]
    },
    {
      "cell_type": "code",
      "execution_count": 28,
      "metadata": {
        "colab": {
          "base_uri": "https://localhost:8080/",
          "height": 366
        },
        "id": "iNXZovNn8Wlv",
        "outputId": "c76d4966-7d5c-4329-f63a-c8e40d375857"
      },
      "outputs": [
        {
          "output_type": "display_data",
          "data": {
            "text/plain": [
              "<Figure size 1080x432 with 1 Axes>"
            ],
            "image/png": "[encoded data removed]"
          },
          "metadata": {
            "needs_background": "light"
          }
        }
      ],
      "source": [
        "# Plot the ROC curve for the model\n",
        "plt.subplots(figsize=(15, 6))\n",
        "plt.plot([0,1], [0,1], linestyle='--', label = 'Base')\n",
        "plt.plot(lr_fpr1, lr_tpr1, marker='.', label = 'LDA')\n",
        "plt.plot(lr_fpr2, lr_tpr2, marker='.', label = 'QDA')\n",
        "plt.plot(lr_fpr, lr_tpr, marker='.', label = 'Logistic Regression')\n",
        "plt.plot(lr_fpr3, lr_tpr3, marker='.', label = 'Naive Bayes')\n",
        "plt.plot(lr_fpr4, lr_tpr4, marker='.', label = 'KNN')\n",
        "\n",
        "# Axis Labels\n",
        "plt.legend()\n",
        "plt.xlabel('False Positive Rate')\n",
        "plt.ylabel('True Positive Rate')\n",
        "plt.show()"
      ]
    },
    {
      "cell_type": "markdown",
      "metadata": {
        "id": "jEtBKnHni2GT"
      },
      "source": [
        "---\n",
        "## Section 3 -- Bootstrap and k-Fold"
      ]
    },
    {
      "cell_type": "markdown",
      "metadata": {
        "id": "AyCSRMx2pDsm"
      },
      "source": [
        "**5.a)** Explain how the leave-one-out cross validation (LOOCV) is implemented."
      ]
    },
    {
      "cell_type": "markdown",
      "metadata": {
        "id": "mYc14DR_vQ9l"
      },
      "source": [
        "In the LOOCV method, each observation is considered as the validation set and the remaining (N-1) observations are considered as the training set.\n",
        "\n",
        "For this, we split the dataset into the corresponding sets using all but one observation as part of the training set. Next, we construct the model using only data from this last set.\n",
        "\n",
        "With the model, we predict the response value of the one observation of the validation set and calculate its mean squared error (MSE) in the case of quantitative responses and misclassification rate in case of a qualitative (discrete) response.\n",
        "\n",
        "Lastly, repeat the process N times and then calculate the test error to be the average of all N errors.\n"
      ]
    },
    {
      "cell_type": "markdown",
      "metadata": {
        "id": "MbIethdmpcwr"
      },
      "source": [
        "---\n",
        "**5.b)** What are the advantages and disadvantages of k-Fold cross-validation relative to:\n",
        "\n",
        "1. Validation set approach.\n",
        "2. Leave One Out Cross-Validation (LOOCV)"
      ]
    },
    {
      "cell_type": "markdown",
      "metadata": {
        "id": "F_U7i3m1MYWh"
      },
      "source": [
        "K-fold cross-validation is a method for evaluating the performance of a machine learning model. It involves randomly dividing the dataset into k subsets, training the model on k-1 subsets, and evaluating it on the remaining subset. This process is repeated k times with a different subset being used as the test set in each iteration. The final evaluation metric is the average of the performance on all k iterations.\n",
        "\n",
        "One advantage of k-fold cross-validation is that it provides a more reliable estimate of the model's performance than a single validation set, because it uses all of the data for training and testing. This is particularly useful if the dataset is small, because it allows the model to be trained and tested on more data, which can give a more accurate estimate of its performance.\n",
        "\n",
        "Another advantage of k-fold cross-validation is that it can help to reduce the variance of the evaluation metric, because it averages the performance over multiple iterations. This can be particularly useful if the model has high variance, which means that its performance can vary significantly depending on the specific data it is trained and tested on.\n",
        "\n",
        "However, one disadvantage of k-fold cross-validation is that it can be computationally expensive, especially if the model is complex and takes a long time to train. Additionally, it can be time-consuming to prepare the data for k-fold cross-validation, especially if the data needs to be shuffled or stratified.\n",
        "\n",
        "In contrast, the validation set approach involves splitting the data into a training set and a validation set, training the model on the training set, and evaluating it on the validation set. This method is simpler and faster than k-fold cross-validation, but it has some limitations.\n",
        "\n",
        "One disadvantage of the validation set approach is that it can be less reliable than k-fold cross-validation, because it only uses a single split of the data for training and testing. This means that the model's performance may be highly dependent on the specific data that was used for the training and validation sets, and the results may not be representative of the model's true performance. Additionally, if the validation set is small, the evaluation metric may have high variance, which can make it difficult to accurately assess the model's performance.\n",
        "\n",
        "One advantage of LOOCV is that it can provide a more accurate estimate of the model's performance than k-fold cross-validation with a larger value of k, because it uses all of the data for training and testing. This is particularly useful if the dataset is small and there are not enough observations to create a large number of folds. Moreover, k-fold cross-validation estimates of prediction error will typically be biased upwards, whereas this bias is minimized using the LOOCV, even though this estimate presents a higher variance when comparing the results of each iteration.\n",
        "\n",
        "One other disadvantage of LOOCV is that it can be computationally expensive, because it requires training and evaluating the model n times. Additionally, it can be time-consuming to prepare the data for LOOCV.\n"
      ]
    },
    {
      "cell_type": "markdown",
      "metadata": {
        "id": "jOcCUxFMpAGw"
      },
      "source": [
        "---\n",
        "## Section 4 -- Other Questions"
      ]
    },
    {
      "cell_type": "markdown",
      "metadata": {
        "id": "jUkJU0D7pFWO"
      },
      "source": [
        "**6)** In your group's opinion, what are the advantages and disadvantages of using a virtual environment when programming in Python?"
      ]
    },
    {
      "cell_type": "markdown",
      "metadata": {
        "id": "owB2gzbefixq"
      },
      "source": [
        "Python virtual environments are used to optimize the time it takes to process your code by creating subdirectories (the so-called environments) in which you store packages needed for specific projects. When you wish to work on a project that only requires some packages, this will allow your device to only search in that directory and not get flooded. Also, some packages cause collisions and having different directories will also avoid that. In addition, it helps organization-wise.\n",
        "\n",
        "There are **no direct disadvantages in using a virtual environment**, the only situation where it may not be considered necessary or useful is when you have a basic program that doesn't required packages other than the pre-installed module called Python Standard Library."
      ]
    },
    {
      "cell_type": "markdown",
      "metadata": {
        "id": "W8dWu7BXpFTc"
      },
      "source": [
        "---\n",
        "**7)** In your group's opinion, in what circumstances is it better to use Jupyter Notebooks and when is it better to use Google Colab notebooks? Give some specific examples."
      ]
    },
    {
      "cell_type": "markdown",
      "metadata": {
        "id": "bdlB5TlCVSo1"
      },
      "source": [
        "It's better to use **Jupyter Notebooks** when:\n",
        "*   You need to have two people working at the same time (Colab will have trouble saving the files and will overwrite changes in different files by keeping the more recent one)\n",
        "*   You don't have an internet connection\n",
        "*   Your workspace requires a lot of input files (Colab requires you to upload them each time)\n",
        "*   You need to work for more than 12 hours (Colab shuts down after that time) or need to leave your device idle (Colab shut down quickly in that situation)\n",
        "\n",
        "It's better to use **Google Colab** when:\n",
        "*   Your device doesn't have strong processing capabilities (it's cloud-based and only needs text input and an internet connection) or system memory (Jupyter will probably not last for long sessions if this applies)\n",
        "*   You want to leave comments on specific cells for your project mates\n",
        "*   You need specific graphic libraries and want them pre-installed\n",
        "*   You don't have storage in your computer for the notebooks (again, it's cloud based)\n",
        "*   You want to work on different devices for the same project\n",
        "\n",
        "\n",
        "\n",
        "\n"
      ]
    },
    {
      "cell_type": "markdown",
      "metadata": {
        "id": "Sl0krfG6pFH6"
      },
      "source": [
        "---\n",
        "**8)** Enter your GitHub repository webpage."
      ]
    },
    {
      "cell_type": "markdown",
      "metadata": {
        "id": "iq7TXR7UeSAH"
      },
      "source": [
        "https://github.com/PeterNoites/AA_project_G9"
      ]
    }
  ],
  "metadata": {
    "colab": {
      "provenance": [],
      "include_colab_link": true
    },
    "kernelspec": {
      "display_name": "Python 3 (ipykernel)",
      "language": "python",
      "name": "python3"
    },
    "language_info": {
      "codemirror_mode": {
        "name": "ipython",
        "version": 3
      },
      "file_extension": ".py",
      "mimetype": "text/x-python",
      "name": "python",
      "nbconvert_exporter": "python",
      "pygments_lexer": "ipython3",
      "version": "3.9.13"
    }
  },
  "nbformat": 4,
  "nbformat_minor": 0
}